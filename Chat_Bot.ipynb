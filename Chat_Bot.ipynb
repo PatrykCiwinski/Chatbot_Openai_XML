{
  "cells": [
    {
      "cell_type": "markdown",
      "metadata": {
        "id": "view-in-github",
        "colab_type": "text"
      },
      "source": [
        "<a href=\"https://colab.research.google.com/github/PatrykCiwinski/Chatbot_Openai_XML/blob/main/Chat_Bot.ipynb\" target=\"_parent\"><img src=\"https://colab.research.google.com/assets/colab-badge.svg\" alt=\"Open In Colab\"/></a>"
      ]
    },
    {
      "cell_type": "code",
      "execution_count": null,
      "metadata": {
        "id": "af6mkeBd81S7"
      },
      "outputs": [],
      "source": [
        "!pip install langchain\n",
        "!pip install pinecone-client\n",
        "!pip install openai"
      ]
    },
    {
      "cell_type": "code",
      "execution_count": null,
      "metadata": {
        "id": "FLcNBZPJ-b-n"
      },
      "outputs": [],
      "source": [
        "!pip install nest_asyncio"
      ]
    },
    {
      "cell_type": "code",
      "execution_count": null,
      "metadata": {
        "id": "rHLceREEI2pw"
      },
      "outputs": [],
      "source": [
        "!pip install tiktoken"
      ]
    },
    {
      "cell_type": "markdown",
      "metadata": {
        "id": "qybTbJ6l9WXn"
      },
      "source": [
        "##API keys"
      ]
    },
    {
      "cell_type": "code",
      "execution_count": null,
      "metadata": {
        "id": "jgoF5xjw9U1v"
      },
      "outputs": [],
      "source": [
        "import os"
      ]
    },
    {
      "cell_type": "code",
      "execution_count": null,
      "metadata": {
        "id": "aftwL5cZ9hi4"
      },
      "outputs": [],
      "source": [
        "os.environ['OPENAI_API_KEY'] = '*****'"
      ]
    },
    {
      "cell_type": "code",
      "execution_count": null,
      "metadata": {
        "id": "Udp-MzhW9_oA",
        "colab": {
          "base_uri": "https://localhost:8080/"
        },
        "outputId": "d4377ecf-b8ac-4145-8db7-daf31e8570a7"
      },
      "outputs": [
        {
          "output_type": "stream",
          "name": "stderr",
          "text": [
            "/usr/local/lib/python3.10/dist-packages/pinecone/index.py:4: TqdmExperimentalWarning: Using `tqdm.autonotebook.tqdm` in notebook mode. Use `tqdm.tqdm` instead to force console mode (e.g. in jupyter console)\n",
            "  from tqdm.autonotebook import tqdm\n"
          ]
        }
      ],
      "source": [
        "import pinecone\n",
        "pinecone.init(\n",
        "    api_key='*****',\n",
        "    environment='****'\n",
        ")"
      ]
    },
    {
      "cell_type": "markdown",
      "metadata": {
        "id": "eV3FJvaO_Nfg"
      },
      "source": [
        "##Scraping the website ( we need sitemap.xml).\n",
        "### I can't find dataedo.com sitemap, so I used realpython.com. Once it provided we can filter data drom dataedo.com"
      ]
    },
    {
      "cell_type": "code",
      "execution_count": null,
      "metadata": {
        "colab": {
          "base_uri": "https://localhost:8080/"
        },
        "id": "OXv6AK1r_KFw",
        "outputId": "76d6ae5f-6336-4684-cdde-2fedab0d93c5"
      },
      "outputs": [
        {
          "output_type": "stream",
          "name": "stderr",
          "text": [
            "Fetching pages: 100%|##########| 4063/4063 [01:54<00:00, 35.58it/s]\n"
          ]
        }
      ],
      "source": [
        "import nest_asyncio\n",
        "nest_asyncio.apply()\n",
        "\n",
        "from langchain.document_loaders.sitemap import SitemapLoader\n",
        "\n",
        "loader = SitemapLoader(\n",
        "    'https://realpython.com/sitemap.xml'\n",
        ")\n",
        "docs = loader.load()"
      ]
    },
    {
      "cell_type": "markdown",
      "metadata": {
        "id": "brfjD_TKE_Bn"
      },
      "source": [
        "##The text is too big. Instead whole text we just use chunks of it.\n",
        "###We use recommended splitter for the text"
      ]
    },
    {
      "cell_type": "code",
      "execution_count": null,
      "metadata": {
        "id": "nJ_OJUf0E8y9"
      },
      "outputs": [],
      "source": [
        "from langchain.text_splitter import RecursiveCharacterTextSplitter\n",
        "\n",
        "text_splitter = RecursiveCharacterTextSplitter(\n",
        "    chunk_size = 1000,\n",
        "    chunk_overlap  = 120,\n",
        "    length_function = len,\n",
        "    add_start_index = True,\n",
        "    separators = [\"\\n\\n\",\"\\n\",\".\",\",\",\"!\",\"?\",\" \"]\n",
        ")\n",
        "\n",
        "doc_chunks = text_splitter.split_documents(docs)"
      ]
    },
    {
      "cell_type": "markdown",
      "metadata": {
        "id": "th29lzQsGvoq"
      },
      "source": [
        "##Then is needed to create emmbedings ( we use openai embeddings)"
      ]
    },
    {
      "cell_type": "code",
      "execution_count": null,
      "metadata": {
        "id": "dE-lhIq0Goag"
      },
      "outputs": [],
      "source": [
        "from langchain.embeddings.openai import OpenAIEmbeddings\n",
        "\n",
        "embeddings = OpenAIEmbeddings()"
      ]
    },
    {
      "cell_type": "markdown",
      "metadata": {
        "id": "cx9Q-H0rHRva"
      },
      "source": [
        "##We use pinecone to store our vectors"
      ]
    },
    {
      "cell_type": "code",
      "execution_count": null,
      "metadata": {
        "id": "FYRj4bPaHNwh"
      },
      "outputs": [],
      "source": [
        "from langchain.vectorstores import Pinecone\n",
        "\n",
        "index_name = 'first'\n",
        "\n",
        "#new index creation. It should be created only first time!\n",
        "# docsearch = Pinecone.from_documents(doc_chunks,embedding=embeddings,index_name=index_name)\n",
        "\n",
        "#if already have index, just load it\n",
        "\n",
        "docsearch = Pinecone.from_existing_index(index_name=index_name,embedding=embeddings)"
      ]
    },
    {
      "cell_type": "markdown",
      "metadata": {
        "id": "TDTHZk9JQ4fy"
      },
      "source": [
        "Vectorstore is ready, try first query ( it uses similarity)"
      ]
    },
    {
      "cell_type": "code",
      "execution_count": null,
      "metadata": {
        "id": "h3_EdEfTIm6b"
      },
      "outputs": [],
      "source": [
        "query = 'how to use SQL in python'\n",
        "docs= docsearch.similarity_search(query)"
      ]
    },
    {
      "cell_type": "code",
      "execution_count": null,
      "metadata": {
        "colab": {
          "base_uri": "https://localhost:8080/"
        },
        "id": "8QxQZrm_q0TJ",
        "outputId": "55af0896-5706-4157-8354-b87e065a0284"
      },
      "outputs": [
        {
          "name": "stdout",
          "output_type": "stream",
          "text": [
            "[Document(page_content='Python and MongoDB: Connecting to NoSQL Databases\\n\\n\\n\\n\\ndatabases\\nintermediate\\n\\n\\n\\n\\n\\n\\n\\n\\n\\n\\n\\n\\n\\n\\nPython and MySQL Database: A Practical Introduction\\n\\n\\n\\n\\ndatabases\\ndata-science\\nintermediate\\n\\n\\n\\n\\n\\n\\n\\n\\n\\n\\n\\n\\n\\n\\nHandling SQL Databases With PyQt: The Basics\\n\\n\\n\\n\\ndatabases\\ngui\\nintermediate\\n\\n\\n\\n\\n\\n\\n\\n\\n\\n\\n\\n\\n\\n\\nData Management With Python, SQLite, and SQLAlchemy\\n\\n\\n\\n\\ndatabases\\nintermediate\\nweb-dev\\n\\n\\n\\n\\n\\n\\n\\n\\n\\n\\n\\n\\n\\n\\nIntroduction to Python SQL Libraries\\n\\n\\n\\n\\nbasics\\ndatabases\\ntools\\n\\n\\n\\n\\n\\n\\n\\n\\n\\n\\n\\n\\n\\n\\nData Engineer Interview Questions With Python\\n\\n\\n\\n\\ndatabases\\ndevops\\nintermediate\\n\\n\\n\\n\\n\\n\\n\\n\\n\\n\\n\\n\\n\\n\\npandas: How to Read and Write Files\\n\\n\\n\\n\\ndatabases\\ndata-science\\nintermediate\\n\\n\\n\\n\\n\\n\\n\\n\\n\\n\\n\\n\\n\\n\\nPreventing SQL Injection Attacks With Python\\n\\n\\n\\n\\nbest-practices\\ndatabases\\nintermediate\\n\\n\\n\\n\\n\\n\\n\\n\\n\\n\\n\\n\\n\\n\\nDigging Deeper Into Django Migrations\\n\\n\\n\\n\\ndatabases\\ndjango\\nintermediate\\nweb-dev\\n\\n\\n\\n\\n\\n\\n\\n\\n\\n\\n\\n\\n\\n\\nHow to Use Redis With Python\\n\\n\\n\\n\\ndatabases\\nintermediate\\n\\n\\n\\n\\n\\n\\n\\n\\n\\n\\n\\n\\n\\n\\nHow to Create an Index in Django Without Downtime', metadata={'changefreq': 'daily', 'lastmod': datetime.date(2018, 11, 19), 'loc': 'https://realpython.com/tutorials/databases/', 'priority': '0.5', 'source': 'https://realpython.com/tutorials/databases/', 'start_index': 2656.0}), Document(page_content='Python and MongoDB: Connecting to NoSQL Databases\\n\\n\\n\\n\\ndatabases\\nintermediate\\n\\n\\n\\n\\n\\n\\n\\n\\n\\n\\n\\n\\n\\n\\nPython and MySQL Database: A Practical Introduction\\n\\n\\n\\n\\ndatabases\\ndata-science\\nintermediate\\n\\n\\n\\n\\n\\n\\n\\n\\n\\n\\n\\n\\n\\n\\nHandling SQL Databases With PyQt: The Basics\\n\\n\\n\\n\\ndatabases\\ngui\\nintermediate\\n\\n\\n\\n\\n\\n\\n\\n\\n\\n\\n\\n\\n\\n\\nData Management With Python, SQLite, and SQLAlchemy\\n\\n\\n\\n\\ndatabases\\nintermediate\\nweb-dev\\n\\n\\n\\n\\n\\n\\n\\n\\n\\n\\n\\n\\n\\n\\nIntroduction to Python SQL Libraries\\n\\n\\n\\n\\nbasics\\ndatabases\\ntools\\n\\n\\n\\n\\n\\n\\n\\n\\n\\n\\n\\n\\n\\n\\nData Engineer Interview Questions With Python\\n\\n\\n\\n\\ndatabases\\ndevops\\nintermediate\\n\\n\\n\\n\\n\\n\\n\\n\\n\\n\\n\\n\\n\\n\\npandas: How to Read and Write Files\\n\\n\\n\\n\\ndatabases\\ndata-science\\nintermediate\\n\\n\\n\\n\\n\\n\\n\\n\\n\\n\\n\\n\\n\\n\\nPreventing SQL Injection Attacks With Python\\n\\n\\n\\n\\nbest-practices\\ndatabases\\nintermediate\\n\\n\\n\\n\\n\\n\\n\\n\\n\\n\\n\\n\\n\\n\\nDigging Deeper Into Django Migrations\\n\\n\\n\\n\\ndatabases\\ndjango\\nintermediate\\nweb-dev\\n\\n\\n\\n\\n\\n\\n\\n\\n\\n\\n\\n\\n\\n\\nHow to Use Redis With Python\\n\\n\\n\\n\\ndatabases\\nintermediate\\n\\n\\n\\n\\n\\n\\n\\n\\n\\n\\n\\n\\n\\n\\nHow to Create an Index in Django Without Downtime', metadata={'changefreq': 'daily', 'lastmod': datetime.date(2018, 11, 19), 'loc': 'https://realpython.com/tutorials/databases/', 'priority': '0.5', 'source': 'https://realpython.com/tutorials/databases/', 'start_index': 2656.0}), Document(page_content='Python and MongoDB: Connecting to NoSQL Databases\\n\\n\\n\\n\\ndatabases\\nintermediate\\n\\n\\n\\n\\n\\n\\n\\n\\n\\n\\n\\n\\n\\n\\nPython and MySQL Database: A Practical Introduction\\n\\n\\n\\n\\ndatabases\\ndata-science\\nintermediate\\n\\n\\n\\n\\n\\n\\n\\n\\n\\n\\n\\n\\n\\n\\nHandling SQL Databases With PyQt: The Basics\\n\\n\\n\\n\\ndatabases\\ngui\\nintermediate\\n\\n\\n\\n\\n\\n\\n\\n\\n\\n\\n\\n\\n\\n\\nData Management With Python, SQLite, and SQLAlchemy\\n\\n\\n\\n\\ndatabases\\nintermediate\\nweb-dev\\n\\n\\n\\n\\n\\n\\n\\n\\n\\n\\n\\n\\n\\n\\nIntroduction to Python SQL Libraries\\n\\n\\n\\n\\nbasics\\ndatabases\\ntools\\n\\n\\n\\n\\n\\n\\n\\n\\n\\n\\n\\n\\n\\n\\nData Engineer Interview Questions With Python\\n\\n\\n\\n\\ndatabases\\ndevops\\nintermediate\\n\\n\\n\\n\\n\\n\\n\\n\\n\\n\\n\\n\\n\\n\\npandas: How to Read and Write Files\\n\\n\\n\\n\\ndatabases\\ndata-science\\nintermediate\\n\\n\\n\\n\\n\\n\\n\\n\\n\\n\\n\\n\\n\\n\\nPreventing SQL Injection Attacks With Python\\n\\n\\n\\n\\nbest-practices\\ndatabases\\nintermediate\\n\\n\\n\\n\\n\\n\\n\\n\\n\\n\\n\\n\\n\\n\\nDigging Deeper Into Django Migrations\\n\\n\\n\\n\\ndatabases\\ndjango\\nintermediate\\nweb-dev\\n\\n\\n\\n\\n\\n\\n\\n\\n\\n\\n\\n\\n\\n\\nHow to Use Redis With Python\\n\\n\\n\\n\\ndatabases\\nintermediate\\n\\n\\n\\n\\n\\n\\n\\n\\n\\n\\n\\n\\n\\n\\nHow to Create an Index in Django Without Downtime', metadata={'changefreq': 'daily', 'lastmod': datetime.date(2018, 11, 19), 'loc': 'https://realpython.com/tutorials/databases/', 'priority': '0.5', 'source': 'https://realpython.com/tutorials/databases/', 'start_index': 2656.0}), Document(page_content='Python Database Tutorials – Real Python\\n\\n\\n\\n\\n\\n\\n\\n\\n\\n\\n\\n\\n\\n\\n\\n\\n\\n\\n\\n\\n\\n\\n\\n\\n\\n\\n\\n\\n\\n\\n\\n\\n\\n\\n\\n\\n\\nStart\\xa0Here\\n\\n\\n\\n Learn Python\\n          \\n\\n Python Tutorials →In-depth articles and video courses\\n Learning Paths →Guided study plans for accelerated learning\\n Quizzes →Check your learning progress\\n Browse Topics →Focus on a specific area or skill level\\n Community Chat →Learn with other Pythonistas\\n Office Hours →Live Q&A calls with Python experts\\n Podcast →Hear what’s new in the world of Python\\n Books →Round out your knowledge and learn offline\\n Unlock All Content →\\n\\n\\n\\n\\n            More\\n          \\n\\nLearner Stories\\nPython Newsletter\\nPython Job Board\\nMeet the Team\\nBecome a Tutorial Writer\\nBecome a Video Instructor\\n\\n\\n\\n\\n\\n\\n Search\\n\\n\\n\\n\\n\\n\\n\\n\\n\\n\\n\\n\\nJoin\\n\\n\\nSign‑In\\n\\n\\n\\n\\n\\n\\n\\n\\n\\n\\n\\n— FREE Email Series —\\n🐍 Python Tricks 💌\\n\\n\\n\\n\\n\\n\\n\\nGet Python Tricks »\\n🔒 No spam. Unsubscribe any time.\\n\\n\\n\\nBrowse Topics\\nGuided Learning Paths\\n\\n Basics\\n Intermediate\\n Advanced', metadata={'changefreq': 'daily', 'lastmod': datetime.date(2018, 11, 19), 'loc': 'https://realpython.com/tutorials/databases/', 'priority': '0.5', 'source': 'https://realpython.com/tutorials/databases/', 'start_index': 5.0})]\n"
          ]
        }
      ],
      "source": [
        "print(docs)"
      ]
    },
    {
      "cell_type": "markdown",
      "metadata": {
        "id": "NvVlGeDkSF0v"
      },
      "source": [
        "## But we want answer out of input text\n",
        "### we need to provide question answer chain"
      ]
    },
    {
      "cell_type": "code",
      "execution_count": null,
      "metadata": {
        "id": "8qA9GUHsRciD"
      },
      "outputs": [],
      "source": [
        "from langchain.chains import RetrievalQA\n",
        "from langchain.llms import OpenAI"
      ]
    },
    {
      "cell_type": "code",
      "execution_count": null,
      "metadata": {
        "id": "MkpUv5lZYbpP"
      },
      "outputs": [],
      "source": [
        "llm = OpenAI()"
      ]
    },
    {
      "cell_type": "code",
      "execution_count": null,
      "metadata": {
        "id": "nw6WInmUZGjE"
      },
      "outputs": [],
      "source": [
        "from langchain.prompts import PromptTemplate\n",
        "template = \"\"\"Use the following pieces of context to answer the question at the end.\n",
        "If you don't know the answer, just say that you don't know, don't try to make up an answer.\n",
        "Use three sentences maximum and keep the answer as concise as possible.\n",
        "Always say \"thanks for asking!\" at the end of the answer.\n",
        "{context}\n",
        "Question: {question}\n",
        "Helpful Answer:\"\"\"\n",
        "QA_CHAIN_PROMPT = PromptTemplate(input_variables=[\"context\", \"question\"],template=template,)"
      ]
    },
    {
      "cell_type": "code",
      "execution_count": null,
      "metadata": {
        "id": "Fb74_91zYee-"
      },
      "outputs": [],
      "source": [
        "qa_chain = RetrievalQA.from_chain_type(llm,\n",
        "                                       retriever=docsearch.as_retriever(),\n",
        "                                       chain_type_kwargs={\"prompt\": QA_CHAIN_PROMPT},return_source_documents=True)"
      ]
    },
    {
      "cell_type": "code",
      "execution_count": null,
      "metadata": {
        "colab": {
          "background_save": true
        },
        "id": "nGSPRV9wZWAV"
      },
      "outputs": [],
      "source": [
        "query1 = 'how to use SQL in python'\n",
        "\n",
        "result = qa_chain({\"query\": query1})"
      ]
    },
    {
      "cell_type": "code",
      "execution_count": null,
      "metadata": {
        "id": "xZPxFIiPZf4y"
      },
      "outputs": [],
      "source": [
        "print(result['source_documents'])"
      ]
    },
    {
      "cell_type": "markdown",
      "metadata": {
        "id": "JeGz-qjNc2pw"
      },
      "source": [
        "##This approach provides chat functionality with buffered memory"
      ]
    },
    {
      "cell_type": "code",
      "execution_count": null,
      "metadata": {
        "id": "_Z_OXAtMZiwa"
      },
      "outputs": [],
      "source": [
        "from langchain.memory import ConversationBufferMemory\n",
        "memory = ConversationBufferMemory(memory_key=\"chat_history\", return_messages=True)"
      ]
    },
    {
      "cell_type": "code",
      "execution_count": null,
      "metadata": {
        "id": "Lvngegr0cZny"
      },
      "outputs": [],
      "source": [
        "from langchain.chains import ConversationalRetrievalChain\n",
        "retriever=docsearch.as_retriever()\n",
        "chat = ConversationalRetrievalChain.from_llm(llm,retriever=retriever,memory=memory)"
      ]
    },
    {
      "cell_type": "code",
      "execution_count": null,
      "metadata": {
        "id": "eH6kZAdkcc5P"
      },
      "outputs": [],
      "source": [
        "result = chat({\"question\": 'excel in medical analysis'})"
      ]
    },
    {
      "cell_type": "code",
      "execution_count": null,
      "metadata": {
        "id": "4wJzllKhcpqp"
      },
      "outputs": [],
      "source": [
        "result['answer']"
      ]
    },
    {
      "cell_type": "code",
      "execution_count": null,
      "metadata": {
        "id": "7lLPVCz_qDBl"
      },
      "outputs": [],
      "source": []
    }
  ],
  "metadata": {
    "colab": {
      "provenance": [],
      "authorship_tag": "ABX9TyPq3vTWKlptSxPvKpzlaciZ",
      "include_colab_link": true
    },
    "kernelspec": {
      "display_name": "Python 3",
      "name": "python3"
    },
    "language_info": {
      "name": "python"
    }
  },
  "nbformat": 4,
  "nbformat_minor": 0
}